{
 "cells": [
  {
   "cell_type": "code",
   "execution_count": 13,
   "id": "65150d7a-c36b-4047-89f3-312b91f0b765",
   "metadata": {},
   "outputs": [],
   "source": [
    "import pandas as pd\n",
    "import numpy as np"
   ]
  },
  {
   "cell_type": "code",
   "execution_count": 7,
   "id": "3351ba96-8f44-4031-8ccf-e70ca16789f9",
   "metadata": {},
   "outputs": [],
   "source": [
    "# Importing data\n",
    "sgrecipient = pd.read_csv(\"../data/trade-register-sg-recipient.csv\", header = 10, encoding= \"ISO-8859-1\")\n",
    "sgsupplier = pd.read_csv(\"../data/trade-register-sg-supplier.csv\", header = 10, encoding= \"ISO-8859-1\")"
   ]
  },
  {
   "cell_type": "code",
   "execution_count": 8,
   "id": "24efef01-fa61-40fa-ae01-eeabd0b982af",
   "metadata": {},
   "outputs": [],
   "source": [
    "# Removing empty columns\n",
    "sgrecipient = sgrecipient.drop(sgrecipient.columns[[3, 5, 9]], axis=1)\n",
    "sgsupplier = sgsupplier.drop(sgsupplier.columns[[3, 5, 9]], axis=1)"
   ]
  },
  {
   "cell_type": "code",
   "execution_count": 9,
   "id": "5c53300a-2974-428c-8cac-74332c8a245f",
   "metadata": {},
   "outputs": [],
   "source": [
    "# Renaming columns\n",
    "sgrecipient.rename(columns = {\"Recipient\":\"recipient\", \"Supplier\":\"supplier\", \"Year of order\":\"year\", \"SIPRI TIV for total order\":\"value\"}, inplace = True)\n",
    "sgrecipient = sgrecipient.iloc[:, [0, 1, 2, 11]]\n",
    "\n",
    "sgsupplier.rename(columns = {\"Recipient\":\"recipient\", \"Supplier\":\"supplier\", \"Year of order\":\"year\", \"SIPRI TIV for total order\":\"value\"}, inplace = True)\n",
    "sgsupplier = sgsupplier.iloc[:, [0, 1, 2, 11]]"
   ]
  },
  {
   "cell_type": "code",
   "execution_count": 10,
   "id": "a1dca9a5-8812-4a8d-9c35-44e92fe1c613",
   "metadata": {},
   "outputs": [],
   "source": [
    "# Standardising country name\n",
    "sgrecipient['supplier'] = sgrecipient['supplier'].replace('United States', 'United States of America')\n",
    "sgsupplier['recipient'] = sgsupplier['recipient'].replace({\n",
    "    'United States': 'United States of America',\n",
    "    'UAE': 'United Arab Emirates'\n",
    "})"
   ]
  },
  {
   "cell_type": "code",
   "execution_count": 11,
   "id": "aee7ad98-fd26-4164-80d6-768c172d3281",
   "metadata": {},
   "outputs": [],
   "source": [
    "# Merge data set\n",
    "arms = pd.merge(\n",
    "    sgsupplier.rename(columns={'supplier': 'country1', 'recipient': 'country2', 'value': 'supplied'}), \n",
    "    sgrecipient.rename(columns={'supplier': 'country2', 'recipient': 'country1', 'value': 'received'}), \n",
    "    how='outer', \n",
    "    left_on=['country1', 'country2', 'year'], \n",
    "    right_on=['country1', 'country2', 'year']\n",
    ")"
   ]
  },
  {
   "cell_type": "code",
   "execution_count": 14,
   "id": "c630f277-193b-462e-9322-826e483f05e8",
   "metadata": {},
   "outputs": [],
   "source": [
    "# Convert into dummy variable\n",
    "arms['total'] = arms['supplied'].fillna(0) + arms['received'].fillna(0)\n",
    "arms['total'] = np.where(\n",
    "    arms['total'].fillna(0) > 0,\n",
    "    1,\n",
    "    0\n",
    ")\n",
    "\n",
    "arms.rename(columns={'total': 'arms'}, inplace=True)"
   ]
  },
  {
   "cell_type": "code",
   "execution_count": 16,
   "id": "efcb8805-4d3b-49fa-aa74-0771ed184e4a",
   "metadata": {},
   "outputs": [],
   "source": [
    "# Export\n",
    "arms.to_csv(\"../data/arms.csv\")"
   ]
  }
 ],
 "metadata": {
  "kernelspec": {
   "display_name": "Python 3 (ipykernel)",
   "language": "python",
   "name": "python3"
  },
  "language_info": {
   "codemirror_mode": {
    "name": "ipython",
    "version": 3
   },
   "file_extension": ".py",
   "mimetype": "text/x-python",
   "name": "python",
   "nbconvert_exporter": "python",
   "pygments_lexer": "ipython3",
   "version": "3.10.6"
  }
 },
 "nbformat": 4,
 "nbformat_minor": 5
}
