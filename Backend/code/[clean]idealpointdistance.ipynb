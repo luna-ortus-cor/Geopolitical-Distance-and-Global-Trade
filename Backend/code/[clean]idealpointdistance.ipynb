{
 "cells": [
  {
   "cell_type": "code",
   "execution_count": 35,
   "id": "da1723be-d1cd-434c-8081-13ddb5f51595",
   "metadata": {},
   "outputs": [],
   "source": [
    "import pandas as pd"
   ]
  },
  {
   "cell_type": "code",
   "execution_count": 36,
   "id": "8048e358-0cb1-40d6-b326-73d9662b82ec",
   "metadata": {},
   "outputs": [],
   "source": [
    "# Importing\n",
    "countryCodes = pd.read_csv(\"../data/COW country codes.csv\") # Checked, 0 missing value\n",
    "agreementScores = pd.read_csv(\"../data/AgreementScoresAll_Jun2024.csv\")"
   ]
  },
  {
   "cell_type": "code",
   "execution_count": 37,
   "id": "1a712638-79f9-4b82-86ac-9b4d5de3016e",
   "metadata": {},
   "outputs": [],
   "source": [
    "# Adding in country names to data\n",
    "agreementScoresMerged = pd.merge(agreementScores, countryCodes, left_on = \"ccode1\", right_on = \"CCode\", how = \"inner\")\n",
    "agreementScoresMerged = agreementScoresMerged.drop(columns = [\"CCode\"])\n",
    "agreementScoresMerged.rename(columns = {\"StateAbb\":\"StateAbb1\", \"StateNme\":\"StateName1\"}, inplace = True)\n",
    "\n",
    "agreementScoresMerged = pd.merge(agreementScoresMerged, countryCodes, left_on = \"ccode2\", right_on = \"CCode\", how = \"inner\")\n",
    "agreementScoresMerged = agreementScoresMerged.drop(columns = [\"CCode\"])\n",
    "agreementScoresMerged.rename(columns = {\"StateAbb\":\"StateAbb2\", \"StateNme\":\"StateName2\"}, inplace = True)"
   ]
  },
  {
   "cell_type": "code",
   "execution_count": 38,
   "id": "257d2e20-d75a-4ed9-9d05-18aee52c0e8e",
   "metadata": {},
   "outputs": [],
   "source": [
    "# Filtering for data relevant only to Singapore\n",
    "agreementScoresMerged = agreementScoresMerged[(agreementScoresMerged[\"StateName1\"] == \"Singapore\") | (agreementScoresMerged[\"StateName2\"] == \"Singapore\")]"
   ]
  },
  {
   "cell_type": "code",
   "execution_count": 40,
   "id": "dc73f523-9284-407e-ba92-c1ffd7c98fc1",
   "metadata": {},
   "outputs": [],
   "source": [
    "# Removing duplicate entries. Checked that no ('ccode1', 'ccode2', 'year') combination have different IdealPointDistance\n",
    "agreementScoresMerged.drop_duplicates(\n",
    "    subset=['ccode1', 'ccode2', 'year', 'IdealPointDistance'],\n",
    "    inplace=True\n",
    ")"
   ]
  },
  {
   "cell_type": "code",
   "execution_count": 41,
   "id": "6f983054-b23e-4b70-8602-06cd7e7084b9",
   "metadata": {},
   "outputs": [],
   "source": [
    "# Removing duplicate symmetric rows - (ccode1, ccode2) and (ccode2, ccode1)\n",
    "agreementScoresMerged['sorted_pair'] = agreementScoresMerged.apply(\n",
    "    lambda row: tuple(sorted([row['ccode1'], row['ccode2']])), axis=1\n",
    ")\n",
    "agreementScoresMerged = agreementScoresMerged.drop_duplicates(subset=['sorted_pair', 'IdealPointDistance', 'year', 'session.x'])\n",
    "agreementScoresMerged = agreementScoresMerged.drop(columns=['sorted_pair'])"
   ]
  },
  {
   "cell_type": "code",
   "execution_count": 42,
   "id": "5171186d-47b7-4dfb-a014-11ec25b93b4f",
   "metadata": {},
   "outputs": [],
   "source": [
    "# Making ccode1 and StateName1 always refer to Singapore\n",
    "def ensure_singapore_first(row):\n",
    "    if row['StateName1'] != \"Singapore\":\n",
    "        # Swap values\n",
    "        row['ccode1'], row['ccode2'] = row['ccode2'], row['ccode1']\n",
    "        row['StateName1'], row['StateName2'] = row['StateName2'], row['StateName1']\n",
    "    return row\n",
    "\n",
    "agreementScoresMerged = agreementScoresMerged.apply(ensure_singapore_first, axis=1)"
   ]
  },
  {
   "cell_type": "code",
   "execution_count": 43,
   "id": "f44ab84d-cc4e-4f96-9a29-de8b2d40e81c",
   "metadata": {},
   "outputs": [],
   "source": [
    "# Keeping only relevant columns\n",
    "agreementScoresMerged = agreementScoresMerged[['StateName1', 'StateName2', 'year', 'IdealPointDistance']]"
   ]
  },
  {
   "cell_type": "code",
   "execution_count": 10,
   "id": "58fa9567-9370-49f4-bbf8-d2500cfeb5e4",
   "metadata": {},
   "outputs": [],
   "source": [
    "# Export as csv\n",
    "agreementScoresMerged.to_csv(\"../data/AgreementScoresMerged.csv\", index=False)"
   ]
  }
 ],
 "metadata": {
  "kernelspec": {
   "display_name": "Python 3 (ipykernel)",
   "language": "python",
   "name": "python3"
  },
  "language_info": {
   "codemirror_mode": {
    "name": "ipython",
    "version": 3
   },
   "file_extension": ".py",
   "mimetype": "text/x-python",
   "name": "python",
   "nbconvert_exporter": "python",
   "pygments_lexer": "ipython3",
   "version": "3.10.6"
  }
 },
 "nbformat": 4,
 "nbformat_minor": 5
}
