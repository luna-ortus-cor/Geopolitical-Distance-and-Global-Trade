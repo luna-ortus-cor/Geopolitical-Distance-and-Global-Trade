{
 "cells": [
  {
   "cell_type": "code",
   "execution_count": 78,
   "id": "f33f9324-a593-4f48-92b0-8e1e346e1434",
   "metadata": {},
   "outputs": [],
   "source": [
    "import pandas as pd\n",
    "import numpy as np\n",
    "import matplotlib.pyplot as plt\n",
    "from statsmodels.stats.outliers_influence import variance_inflation_factor\n",
    "from sklearn.linear_model import LinearRegression\n",
    "from sklearn.preprocessing import StandardScaler, MinMaxScaler\n",
    "from sklearn.model_selection import RandomizedSearchCV, TimeSeriesSplit\n",
    "from sklearn.metrics import mean_squared_error, mean_absolute_error, r2_score, mean_absolute_percentage_error\n",
    "import xgboost as xgb\n",
    "from sklearn.ensemble import RandomForestRegressor\n",
    "from lightgbm import LGBMRegressor\n",
    "from scipy.stats import uniform, randint"
   ]
  },
  {
   "cell_type": "code",
   "execution_count": 79,
   "id": "94570449-63d5-4844-9216-b9c5f940378d",
   "metadata": {},
   "outputs": [],
   "source": [
    "df = pd.read_csv(\"../data/dfgeopoli.csv\")"
   ]
  },
  {
   "cell_type": "code",
   "execution_count": 80,
   "id": "f59f6461-a417-4d8e-9ae2-4e576ea5ab6f",
   "metadata": {},
   "outputs": [
    {
     "data": {
      "text/plain": [
       "Index(['Unnamed: 0', 'year', 'country_id_o', 'country_o', 'country_id_d',\n",
       "       'country_d', 'contig', 'distcap', 'dist', 'comlang_off',\n",
       "       'comlang_ethno', 'comrelig', 'pop_o', 'pop_d', 'gdp_o', 'gdp_d',\n",
       "       'gdpcap_o', 'gdpcap_d', 'fta_wto', 'tradeflow_comtrade_o',\n",
       "       'tradeflow_comtrade_d', 'tradeflow_imf_o', 'tradeflow_imf_d',\n",
       "       'IdealPointDistance', 'arms', 'tot_o', 'tot_d', 'tgdp_ratio_o',\n",
       "       'tgdp_ratio_d', 'v2x_polyarchy_o', 'v2x_libdem_o', 'v2x_partipdem_o',\n",
       "       'v2x_delibdem_o', 'v2x_egaldem_o', 'v2x_polyarchy_d', 'v2x_libdem_d',\n",
       "       'v2x_partipdem_d', 'v2x_delibdem_d', 'v2x_egaldem_d', 'allexports',\n",
       "       'chemicalexports', 'consumerexports', 'foodexports', 'machineryexports',\n",
       "       'manufacturesexports', 'logallexports', 'logchemicalexports',\n",
       "       'logconsumerexports', 'logfoodexports', 'logmachineryexports',\n",
       "       'logmanufacturesexports', 'log_tradeflow_comtrade_o',\n",
       "       'v2x_polyarchy_diff', 'v2x_libdem_diff', 'v2x_partipdem_diff',\n",
       "       'v2x_delibdem_diff', 'v2x_egaldem_diff', 'geodistance'],\n",
       "      dtype='object')"
      ]
     },
     "execution_count": 80,
     "metadata": {},
     "output_type": "execute_result"
    }
   ],
   "source": [
    "df.columns"
   ]
  },
  {
   "cell_type": "code",
   "execution_count": 81,
   "id": "66875980-1b2e-4455-8b0f-063967afd41e",
   "metadata": {},
   "outputs": [
    {
     "name": "stdout",
     "output_type": "stream",
     "text": [
      "       Feature       VIF\n",
      "0  geodistance  5.608730\n",
      "1      distcap  5.288182\n",
      "2     gdpcap_d  1.265124\n",
      "3        pop_d  1.049985\n"
     ]
    }
   ],
   "source": [
    "X = df.dropna(subset=['gdpcap_d'])[['geodistance', 'distcap', 'gdpcap_d', 'pop_d']]\n",
    "vif_df = pd.DataFrame()\n",
    "vif_df['Feature'] = X.columns\n",
    "vif_df['VIF'] = [variance_inflation_factor(X.values, i) for i in range(X.shape[1])]\n",
    "\n",
    "print(vif_df) # no large multicollinearity present"
   ]
  },
  {
   "cell_type": "markdown",
   "id": "970cec61-27cb-4973-be8e-5f73a07f9fd7",
   "metadata": {},
   "source": [
    "### Creating lag values"
   ]
  },
  {
   "cell_type": "code",
   "execution_count": 82,
   "id": "bfd819a2-0f19-49d3-a24d-2dc873f085fa",
   "metadata": {},
   "outputs": [],
   "source": [
    "# Sorting by (country_d, year)\n",
    "df_2 = df.sort_values(by=['country_d', 'year'])\n",
    "\n",
    "# Set lag variables\n",
    "df_2['lag_pop_d'] = df_2.groupby('country_d')['pop_d'].shift(1)\n",
    "df_2['lag_gdpcap_d'] = df_2.groupby('country_d')['gdpcap_d'].shift(1)\n",
    "\n",
    "df_2 = df_2[df_2.groupby('country_d')['year'].diff() == 1]\n",
    "\n",
    "df_2 = df_2.dropna(subset=['geodistance', 'lag_pop_d', 'lag_gdpcap_d', 'log_tradeflow_comtrade_o', 'log_tradeflow_comtrade_o'])"
   ]
  },
  {
   "cell_type": "code",
   "execution_count": 83,
   "id": "0ccdbc3a-26d8-4f83-9ba2-43b2b0cec017",
   "metadata": {},
   "outputs": [
    {
     "data": {
      "text/plain": [
       "geodistance    -0.180455\n",
       "distcap        -0.319656\n",
       "lag_gdpcap_d    0.376160\n",
       "lag_pop_d       0.326401\n",
       "dtype: float64"
      ]
     },
     "execution_count": 83,
     "metadata": {},
     "output_type": "execute_result"
    }
   ],
   "source": [
    "df_2[['geodistance', 'distcap', 'lag_gdpcap_d', 'lag_pop_d']].corrwith(df_2['log_tradeflow_comtrade_o'])\n",
    "\n",
    "# makes sense, expect the signs of each variable"
   ]
  },
  {
   "cell_type": "code",
   "execution_count": 84,
   "id": "a8f2f591-fb17-4108-8f83-b02c902e7538",
   "metadata": {},
   "outputs": [],
   "source": [
    "# TimeSeriesSplit Cross-validation function\n",
    "def timeseries_cv(model, X, y, folds = 6):\n",
    "    tscv = TimeSeriesSplit(n_splits=folds) # around 5 years per fold, there are 32 years in total\n",
    "    mse_list = []\n",
    "    r2_list = []\n",
    "    mae_list = []\n",
    "    mape_list = []\n",
    "    \n",
    "    predictions = pd.Series(index=y.index, dtype=float)\n",
    "\n",
    "    for i, (train_index, test_index) in enumerate(tscv.split(X)):\n",
    "        if hasattr(X, 'iloc'): # this is because some models uses the np, some uses pandas\n",
    "            X_train, X_test = X.iloc[train_index], X.iloc[test_index]\n",
    "        else:\n",
    "            X_train, X_test = X[train_index], X[test_index]\n",
    "        if hasattr(y, 'iloc'): # this is because some models uses the np, some uses pandas\n",
    "            y_train, y_test = y.iloc[train_index], y.iloc[test_index]\n",
    "        else:\n",
    "            y_train, y_test = y[train_index], y[test_index] \n",
    "        \n",
    "        model.fit(X_train, y_train)\n",
    "        y_pred = model.predict(X_test)\n",
    "\n",
    "        mse = mean_squared_error(y_test, y_pred)\n",
    "        r2 = r2_score(y_test, y_pred)\n",
    "        mae = mean_absolute_error(y_test, y_pred)\n",
    "        mape = mean_absolute_percentage_error(y_test, y_pred)\n",
    "        mse_list.append(mse)\n",
    "        r2_list.append(r2)\n",
    "        mae_list.append(mae)\n",
    "        mape_list.append(mape)\n",
    "        \n",
    "        predictions.loc[y_test.index] = pd.Series(y_pred.flatten(), index=y_test.index)\n",
    "\n",
    "    metrics = {\n",
    "        'avg_mse': np.mean(mse_list), \n",
    "        'avg_r2': np.mean(r2_list), \n",
    "        'avg_mae': np.mean(mae_list), \n",
    "        'avg_mape': np.mean(mape_list),\n",
    "        'folds': folds\n",
    "    }\n",
    "\n",
    "    return predictions, metrics"
   ]
  },
  {
   "cell_type": "code",
   "execution_count": 85,
   "id": "7537b3ad-0ab2-47f6-bd58-eaa418d98a6b",
   "metadata": {},
   "outputs": [
    {
     "name": "stdout",
     "output_type": "stream",
     "text": [
      "{'avg_mse': 5.322610258733652, 'avg_r2': 0.2568239805836335, 'avg_mae': 1.7073388573840227, 'avg_mape': 0.10061310598545979, 'folds': 6}\n"
     ]
    }
   ],
   "source": [
    "# Linear Regression\n",
    "df_2 = df_2.sort_values(by=['year'])\n",
    "linearX = df_2[['geodistance', 'distcap', 'lag_gdpcap_d', 'lag_pop_d']].copy()\n",
    "linearY = df_2[['log_tradeflow_comtrade_o']].copy()\n",
    "\n",
    "scaler = StandardScaler()\n",
    "linearX = scaler.fit_transform(linearX)\n",
    "\n",
    "linearModel = LinearRegression()\n",
    "\n",
    "linearPredictions, linearMetrics = timeseries_cv(linearModel, linearX, linearY)\n",
    "print(linearMetrics)"
   ]
  },
  {
   "cell_type": "code",
   "execution_count": 86,
   "id": "377b88ea-b355-4f95-8945-bb5f6af7cca1",
   "metadata": {},
   "outputs": [
    {
     "name": "stdout",
     "output_type": "stream",
     "text": [
      "{'avg_mse': 1.9125371126414168, 'avg_r2': 0.7343794007577, 'avg_mae': 1.022296494134362, 'avg_mape': 0.062004416486577785, 'folds': 6}\n"
     ]
    }
   ],
   "source": [
    "# XGBoost\n",
    "xgboostX = df_2[['lag_pop_d', 'lag_gdpcap_d', 'distcap', 'geodistance']].copy()\n",
    "xgboostX['log_lag_pop_d'] = np.log1p(xgboostX['lag_pop_d'])\n",
    "xgboostX['log_lag_gdpcap_d'] = np.log1p(xgboostX['lag_gdpcap_d'])\n",
    "\n",
    "xgboostX = xgboostX[['distcap', 'geodistance', 'log_lag_pop_d', 'log_lag_gdpcap_d']]\n",
    "xgboostY = df_2[['log_tradeflow_comtrade_o']]\n",
    "\n",
    "# need to relook at the settings\n",
    "xgboostModel = xgb.XGBRegressor(\n",
    "    n_estimators=100,\n",
    "    max_depth=4,\n",
    "    learning_rate=0.05,\n",
    "    subsample=0.8,\n",
    "    colsample_bytree=0.8,\n",
    "    random_state=222\n",
    ")\n",
    "\n",
    "xgboostPredictions, xgboostMetrics = timeseries_cv(xgboostModel, xgboostX, xgboostY)\n",
    "print(xgboostMetrics)"
   ]
  },
  {
   "cell_type": "code",
   "execution_count": 87,
   "id": "dcd6566d-6db5-45ff-83ab-a5ee03b0e51c",
   "metadata": {},
   "outputs": [
    {
     "name": "stdout",
     "output_type": "stream",
     "text": [
      "Fitting 6 folds for each of 50 candidates, totalling 300 fits\n",
      "{'colsample_bytree': 0.927891509969633, 'learning_rate': 0.1402721929311064, 'max_depth': 6, 'n_estimators': 173, 'subsample': 0.8048714736923235}\n",
      "{'avg_mse': 1.4134897322382232, 'avg_r2': 0.797925427001692, 'avg_mae': 0.8449091603563438, 'avg_mape': 0.05112457716281663, 'folds': 6}\n"
     ]
    }
   ],
   "source": [
    "# Hyperparameter tuning for XGBoost\n",
    "tscv = TimeSeriesSplit(n_splits=6)\n",
    "\n",
    "# Hyperparameter to try\n",
    "xgboost_param_dist = {\n",
    "    'n_estimators': randint(50, 200),\n",
    "    'max_depth': randint(3, 10),\n",
    "    'learning_rate': uniform(0.01, 0.2),\n",
    "    'subsample': uniform(0.5, 0.5),\n",
    "    'colsample_bytree': uniform(0.5, 0.5)\n",
    "}\n",
    "\n",
    "# RandomizedSearchCV for hyperparameter tuning using tscv\n",
    "xgboost_random_search = RandomizedSearchCV(\n",
    "    estimator=xgboostModel,\n",
    "    param_distributions=xgboost_param_dist,\n",
    "    scoring='neg_mean_squared_error',\n",
    "    cv=tscv,\n",
    "    n_jobs=-1,\n",
    "    verbose=1,\n",
    "    n_iter=50 \n",
    ")\n",
    "\n",
    "xgboost_random_search.fit(xgboostX, xgboostY.values.ravel())\n",
    "\n",
    "xgboost_best_params = xgboost_random_search.best_params_\n",
    "xgboost_best_model = xgboost_random_search.best_estimator_\n",
    "\n",
    "print(xgboost_best_params)\n",
    "xgboostHPTpredictions, xgboostHPTmetrics = timeseries_cv(xgboost_best_model, xgboostX, xgboostY)\n",
    "print(xgboostHPTmetrics)"
   ]
  },
  {
   "cell_type": "code",
   "execution_count": 88,
   "id": "7cc005ce-c04c-44f4-9437-dd6b94ee334c",
   "metadata": {},
   "outputs": [
    {
     "name": "stdout",
     "output_type": "stream",
     "text": [
      "{'avg_mse': 1.7017109631754124, 'avg_r2': 0.7610716368165811, 'avg_mae': 0.9184384459296521, 'avg_mape': 0.05627639598718531, 'folds': 6}\n"
     ]
    }
   ],
   "source": [
    "# Random forest regression\n",
    "rfX = df_2[['lag_pop_d', 'lag_gdpcap_d', 'distcap', 'geodistance']].copy()\n",
    "rfX['log_lag_pop_d'] = np.log1p(rfX['lag_pop_d'])\n",
    "rfX['log_lag_gdpcap_d'] = np.log1p(rfX['lag_gdpcap_d'])\n",
    "rfX = rfX[['distcap', 'geodistance', 'log_lag_pop_d', 'log_lag_gdpcap_d']]\n",
    "rfY = df_2['log_tradeflow_comtrade_o']\n",
    "\n",
    "# base settings\n",
    "rfModel = RandomForestRegressor(n_estimators=100, max_depth=10, random_state=222)\n",
    "\n",
    "rfPredictions, rfMetrics = timeseries_cv(rfModel, rfX, rfY)\n",
    "print(rfMetrics)"
   ]
  },
  {
   "cell_type": "code",
   "execution_count": 89,
   "id": "ef50e3c7-e8a7-4324-9268-9f976b2056fb",
   "metadata": {},
   "outputs": [
    {
     "name": "stdout",
     "output_type": "stream",
     "text": [
      "Fitting 6 folds for each of 50 candidates, totalling 300 fits\n",
      "{'max_depth': 9, 'min_samples_leaf': 1, 'min_samples_split': 3, 'n_estimators': 86}\n",
      "{'avg_mse': 1.7923977056867841, 'avg_r2': 0.7495285181391624, 'avg_mae': 0.9500842443505949, 'avg_mape': 0.0581930655162343, 'folds': 6}\n"
     ]
    }
   ],
   "source": [
    "# Hyperparameter tuning for Random forest regression (similar to earlier)\n",
    "rf_param_dist = {\n",
    "    'n_estimators': randint(50, 200),\n",
    "    'max_depth': randint(3, 10),\n",
    "    'min_samples_split': randint(2, 10),\n",
    "    'min_samples_leaf': randint(1, 6),  \n",
    "}\n",
    "\n",
    "rf_random_search = RandomizedSearchCV(\n",
    "    estimator=rfModel,\n",
    "    param_distributions=rf_param_dist,\n",
    "    scoring='neg_mean_squared_error',\n",
    "    cv=tscv,\n",
    "    n_jobs=-1,\n",
    "    verbose=1,\n",
    "    n_iter=50 \n",
    ")\n",
    "\n",
    "rf_random_search.fit(xgboostX, xgboostY.values.ravel())\n",
    "rf_best_params = rf_random_search.best_params_\n",
    "rf_best_model = rf_random_search.best_estimator_\n",
    "\n",
    "print(rf_best_params)\n",
    "rfHPTpredictions, tfHPTmetrics = timeseries_cv(rf_best_model, rfX, rfY)\n",
    "print(tfHPTmetrics)"
   ]
  },
  {
   "cell_type": "code",
   "execution_count": 90,
   "id": "63f400e8-d1e5-483c-ad6e-eef0d2218440",
   "metadata": {},
   "outputs": [
    {
     "name": "stdout",
     "output_type": "stream",
     "text": [
      "{'avg_mse': 1.4983589888959186, 'avg_r2': 0.7889163212119535, 'avg_mae': 0.8770780638623417, 'avg_mape': 0.053280390800892696, 'folds': 6}\n"
     ]
    }
   ],
   "source": [
    "# LightGBM\n",
    "lgbmX = df_2[['lag_pop_d', 'lag_gdpcap_d', 'distcap', 'geodistance']].copy()\n",
    "lgbmX['log_lag_pop_d'] = np.log1p(lgbmX['lag_pop_d'])\n",
    "lgbmX['log_lag_gdpcap_d'] = np.log1p(lgbmX['lag_gdpcap_d'])\n",
    "lgbmX = lgbmX[['distcap', 'geodistance', 'log_lag_pop_d', 'log_lag_gdpcap_d']]\n",
    "lgbmY = df_2[['log_tradeflow_comtrade_o']]\n",
    "\n",
    "lgbmModel = LGBMRegressor(n_estimators=100, max_depth=10, random_state=222, verbosity = -1) # verbosity mutes output\n",
    "lgbmPredictions, lgbmMetrics =  timeseries_cv(lgbmModel, lgbmX, lgbmY)\n",
    "print(lgbmMetrics)"
   ]
  },
  {
   "cell_type": "code",
   "execution_count": 91,
   "id": "5cfcc537-b849-4f3f-9cb9-3de1b6f9c137",
   "metadata": {},
   "outputs": [
    {
     "name": "stdout",
     "output_type": "stream",
     "text": [
      "Fitting 6 folds for each of 50 candidates, totalling 300 fits\n",
      "{'learning_rate': 0.16992807150263953, 'max_depth': 9, 'n_estimators': 180, 'num_leaves': 43}\n",
      "{'avg_mse': 1.4093682952089537, 'avg_r2': 0.8001254565505622, 'avg_mae': 0.8446686235333969, 'avg_mape': 0.05130710805589068, 'folds': 6}\n"
     ]
    }
   ],
   "source": [
    "# Hyperparameter tuning for LightGBM (similar to earlier)\n",
    "lgbm_param_dist = {\n",
    "    'n_estimators': randint(50, 200),           \n",
    "    'max_depth': randint(3, 10),                \n",
    "    'learning_rate': uniform(0.01, 0.2),        \n",
    "    'num_leaves': randint(20, 100),           \n",
    "}\n",
    "\n",
    "lgbm_random_search = RandomizedSearchCV(\n",
    "    estimator=lgbmModel,\n",
    "    param_distributions=lgbm_param_dist,\n",
    "    scoring='neg_mean_squared_error',\n",
    "    cv=tscv,\n",
    "    n_jobs=-1,\n",
    "    verbose=1,\n",
    "    n_iter=50\n",
    ")\n",
    "\n",
    "lgbm_random_search.fit(lgbmX, lgbmY.values.ravel())\n",
    "lgbm_best_params = lgbm_random_search.best_params_\n",
    "lgbm_best_model = lgbm_random_search.best_estimator_\n",
    "\n",
    "print(lgbm_best_params)\n",
    "lgbmHPTpredictions, lgbmHPTmetrics = timeseries_cv(lgbm_best_model, lgbmX, lgbmY)\n",
    "print(lgbmHPTmetrics)"
   ]
  },
  {
   "cell_type": "code",
   "execution_count": 92,
   "id": "9f7fdc41-d13c-43f9-a083-f877ff46d9de",
   "metadata": {},
   "outputs": [],
   "source": [
    "df_results = df_2[['country_d', 'log_tradeflow_comtrade_o', 'year']].copy()\n",
    "df_results['linearPrediction'] = linearPredictions\n",
    "df_results['xgboostHPTPrediction'] = xgboostHPTpredictions\n",
    "df_results['rfHPTPrediction'] = rfHPTpredictions\n",
    "df_results['lgbmHPTPrediction'] = lgbmHPTpredictions"
   ]
  },
  {
   "cell_type": "code",
   "execution_count": 93,
   "id": "9dfa32bd-42c6-4cd8-ae25-df5c32053daf",
   "metadata": {},
   "outputs": [
    {
     "data": {
      "image/png": "[encoded data removed]",
      "text/plain": [
       "<Figure size 1200x800 with 1 Axes>"
      ]
     },
     "metadata": {},
     "output_type": "display_data"
    }
   ],
   "source": [
    "df_filtered = df_results[df_results['country_d'] == 'United States of America']\n",
    "\n",
    "plt.figure(figsize=(12, 8))\n",
    "plt.plot(df_filtered['year'], df_filtered['log_tradeflow_comtrade_o'], label='Actual log_tradeflow_comtrade_o', marker='o')\n",
    "plt.plot(df_filtered['year'], df_filtered['linearPrediction'], label='Linear Prediction', marker='o')\n",
    "plt.plot(df_filtered['year'], df_filtered['xgboostHPTPrediction'], label='XGBoost Prediction', marker='o')\n",
    "plt.plot(df_filtered['year'], df_filtered['rfHPTPrediction'], label='RF Prediction', marker='o')\n",
    "plt.plot(df_filtered['year'], df_filtered['lgbmHPTPrediction'], label='LGBM Prediction', marker='o')\n",
    "\n",
    "# Label the plot\n",
    "plt.xlabel('Year')\n",
    "plt.ylabel('log(tradeflow_comtrade_o)')\n",
    "plt.title('Predictions vs. Actual log(tradeflow_comtrade_o) for United States of America')\n",
    "plt.legend()\n",
    "plt.show()"
   ]
  },
  {
   "cell_type": "code",
   "execution_count": 94,
   "id": "a2cb1bca-269e-47e8-a261-1e65492849fe",
   "metadata": {},
   "outputs": [
    {
     "ename": "NameError",
     "evalue": "name 'x' is not defined",
     "output_type": "error",
     "traceback": [
      "\u001b[1;31m---------------------------------------------------------------------------\u001b[0m",
      "\u001b[1;31mNameError\u001b[0m                                 Traceback (most recent call last)",
      "Cell \u001b[1;32mIn[94], line 11\u001b[0m\n\u001b[0;32m      1\u001b[0m selected_cols \u001b[38;5;241m=\u001b[39m [\n\u001b[0;32m      2\u001b[0m     \u001b[38;5;124m'\u001b[39m\u001b[38;5;124myear\u001b[39m\u001b[38;5;124m'\u001b[39m, \u001b[38;5;124m'\u001b[39m\u001b[38;5;124mcountry_id_o\u001b[39m\u001b[38;5;124m'\u001b[39m, \u001b[38;5;124m'\u001b[39m\u001b[38;5;124mcountry_o\u001b[39m\u001b[38;5;124m'\u001b[39m, \u001b[38;5;124m'\u001b[39m\u001b[38;5;124mcountry_id_d\u001b[39m\u001b[38;5;124m'\u001b[39m,\n\u001b[0;32m      3\u001b[0m     \u001b[38;5;124m'\u001b[39m\u001b[38;5;124mcountry_d\u001b[39m\u001b[38;5;124m'\u001b[39m, \u001b[38;5;124m'\u001b[39m\u001b[38;5;124mcontig\u001b[39m\u001b[38;5;124m'\u001b[39m, \u001b[38;5;124m'\u001b[39m\u001b[38;5;124mdistcap\u001b[39m\u001b[38;5;124m'\u001b[39m, \u001b[38;5;124m'\u001b[39m\u001b[38;5;124mdist\u001b[39m\u001b[38;5;124m'\u001b[39m, \u001b[38;5;124m'\u001b[39m\u001b[38;5;124mcomlang_off\u001b[39m\u001b[38;5;124m'\u001b[39m,\n\u001b[1;32m   (...)\u001b[0m\n\u001b[0;32m      7\u001b[0m     \u001b[38;5;124m'\u001b[39m\u001b[38;5;124mv2x_delibdem_diff\u001b[39m\u001b[38;5;124m'\u001b[39m, \u001b[38;5;124m'\u001b[39m\u001b[38;5;124mv2x_egaldem_diff\u001b[39m\u001b[38;5;124m'\u001b[39m, \u001b[38;5;124m'\u001b[39m\u001b[38;5;124mgeodistance\u001b[39m\u001b[38;5;124m'\u001b[39m\n\u001b[0;32m      8\u001b[0m ]\n\u001b[0;32m     10\u001b[0m df_last \u001b[38;5;241m=\u001b[39m df_2[selected_cols]\u001b[38;5;241m.\u001b[39mcopy()\n\u001b[1;32m---> 11\u001b[0m df_last[\u001b[38;5;124m'\u001b[39m\u001b[38;5;124mPredicted\u001b[39m\u001b[38;5;124m'\u001b[39m] \u001b[38;5;241m=\u001b[39m np\u001b[38;5;241m.\u001b[39mexp(\u001b[43mx\u001b[49m)(xgboostHPTpredictions)\n",
      "\u001b[1;31mNameError\u001b[0m: name 'x' is not defined"
     ]
    }
   ],
   "source": [
    "selected_cols = [\n",
    "    'year', 'country_id_o', 'country_o', 'country_id_d',\n",
    "    'country_d', 'contig', 'distcap', 'dist', 'comlang_off',\n",
    "    'comlang_ethno', 'comrelig', 'pop_o', 'pop_d', 'gdp_o', 'gdp_d',\n",
    "    'gdpcap_o', 'gdpcap_d', 'fta_wto', 'tradeflow_comtrade_o', 'IdealPointDistance',\n",
    "    'arms', 'v2x_polyarchy_diff', 'v2x_libdem_diff', 'v2x_partipdem_diff',\n",
    "    'v2x_delibdem_diff', 'v2x_egaldem_diff', 'geodistance'\n",
    "]\n",
    "\n",
    "df_last = df_2[selected_cols].copy()\n",
    "df_last['Predicted'] = np.exp(xgboostHPTpredictions)"
   ]
  },
  {
   "cell_type": "code",
   "execution_count": 61,
   "id": "168e4bfc-3acd-4053-acbf-bdad7ad25437",
   "metadata": {},
   "outputs": [
    {
     "data": {
      "text/html": [
       "<div>\n",
       "<style scoped>\n",
       "    .dataframe tbody tr th:only-of-type {\n",
       "        vertical-align: middle;\n",
       "    }\n",
       "\n",
       "    .dataframe tbody tr th {\n",
       "        vertical-align: top;\n",
       "    }\n",
       "\n",
       "    .dataframe thead th {\n",
       "        text-align: right;\n",
       "    }\n",
       "</style>\n",
       "<table border=\"1\" class=\"dataframe\">\n",
       "  <thead>\n",
       "    <tr style=\"text-align: right;\">\n",
       "      <th></th>\n",
       "      <th>gdpcap_d</th>\n",
       "    </tr>\n",
       "  </thead>\n",
       "  <tbody>\n",
       "    <tr>\n",
       "      <th>5</th>\n",
       "      <td>0.159</td>\n",
       "    </tr>\n",
       "    <tr>\n",
       "      <th>6</th>\n",
       "      <td>0.162</td>\n",
       "    </tr>\n",
       "    <tr>\n",
       "      <th>7</th>\n",
       "      <td>0.137</td>\n",
       "    </tr>\n",
       "    <tr>\n",
       "      <th>8</th>\n",
       "      <td>0.145</td>\n",
       "    </tr>\n",
       "    <tr>\n",
       "      <th>9</th>\n",
       "      <td>0.176</td>\n",
       "    </tr>\n",
       "    <tr>\n",
       "      <th>...</th>\n",
       "      <td>...</td>\n",
       "    </tr>\n",
       "    <tr>\n",
       "      <th>8385</th>\n",
       "      <td>1.009</td>\n",
       "    </tr>\n",
       "    <tr>\n",
       "      <th>8386</th>\n",
       "      <td>1.235</td>\n",
       "    </tr>\n",
       "    <tr>\n",
       "      <th>8387</th>\n",
       "      <td>1.255</td>\n",
       "    </tr>\n",
       "    <tr>\n",
       "      <th>8388</th>\n",
       "      <td>1.317</td>\n",
       "    </tr>\n",
       "    <tr>\n",
       "      <th>8389</th>\n",
       "      <td>1.215</td>\n",
       "    </tr>\n",
       "  </tbody>\n",
       "</table>\n",
       "<p>6176 rows × 1 columns</p>\n",
       "</div>"
      ],
      "text/plain": [
       "      gdpcap_d\n",
       "5        0.159\n",
       "6        0.162\n",
       "7        0.137\n",
       "8        0.145\n",
       "9        0.176\n",
       "...        ...\n",
       "8385     1.009\n",
       "8386     1.235\n",
       "8387     1.255\n",
       "8388     1.317\n",
       "8389     1.215\n",
       "\n",
       "[6176 rows x 1 columns]"
      ]
     },
     "execution_count": 61,
     "metadata": {},
     "output_type": "execute_result"
    }
   ],
   "source": [
    "df_last[['gdpcap_d']]"
   ]
  },
  {
   "cell_type": "code",
   "execution_count": 76,
   "id": "9db17c93-7699-471f-9d33-74b4969a8a65",
   "metadata": {},
   "outputs": [
    {
     "name": "stderr",
     "output_type": "stream",
     "text": [
      "C:\\Users\\Admin\\AppData\\Local\\Temp\\ipykernel_18568\\2845711376.py:6: SettingWithCopyWarning: \n",
      "A value is trying to be set on a copy of a slice from a DataFrame.\n",
      "Try using .loc[row_indexer,col_indexer] = value instead\n",
      "\n",
      "See the caveats in the documentation: https://pandas.pydata.org/pandas-docs/stable/user_guide/indexing.html#returning-a-view-versus-a-copy\n",
      "  predictor['log_lag_pop_d'] = np.log1p(predictor['pop_d'])\n",
      "C:\\Users\\Admin\\AppData\\Local\\Temp\\ipykernel_18568\\2845711376.py:7: SettingWithCopyWarning: \n",
      "A value is trying to be set on a copy of a slice from a DataFrame.\n",
      "Try using .loc[row_indexer,col_indexer] = value instead\n",
      "\n",
      "See the caveats in the documentation: https://pandas.pydata.org/pandas-docs/stable/user_guide/indexing.html#returning-a-view-versus-a-copy\n",
      "  predictor['log_lag_gdpcap_d'] = np.log1p(predictor['gdpcap_d'])\n"
     ]
    },
    {
     "data": {
      "text/html": [
       "<div>\n",
       "<style scoped>\n",
       "    .dataframe tbody tr th:only-of-type {\n",
       "        vertical-align: middle;\n",
       "    }\n",
       "\n",
       "    .dataframe tbody tr th {\n",
       "        vertical-align: top;\n",
       "    }\n",
       "\n",
       "    .dataframe thead th {\n",
       "        text-align: right;\n",
       "    }\n",
       "</style>\n",
       "<table border=\"1\" class=\"dataframe\">\n",
       "  <thead>\n",
       "    <tr style=\"text-align: right;\">\n",
       "      <th></th>\n",
       "      <th>country_id_d</th>\n",
       "      <th>country_d</th>\n",
       "      <th>distcap</th>\n",
       "      <th>geodistance</th>\n",
       "      <th>gdpcap_d</th>\n",
       "      <th>pop_d</th>\n",
       "      <th>export_2020</th>\n",
       "      <th>exp_export_2021</th>\n",
       "      <th>change</th>\n",
       "      <th>rank</th>\n",
       "    </tr>\n",
       "  </thead>\n",
       "  <tbody>\n",
       "    <tr>\n",
       "      <th>71</th>\n",
       "      <td>IDN.2</td>\n",
       "      <td>Indonesia</td>\n",
       "      <td>894.0</td>\n",
       "      <td>41.555256</td>\n",
       "      <td>3.871</td>\n",
       "      <td>273523.621</td>\n",
       "      <td>2.062711e+10</td>\n",
       "      <td>4.431958e+10</td>\n",
       "      <td>2.369247e+10</td>\n",
       "      <td>1</td>\n",
       "    </tr>\n",
       "    <tr>\n",
       "      <th>157</th>\n",
       "      <td>GBR</td>\n",
       "      <td>United Kingdom</td>\n",
       "      <td>10860.0</td>\n",
       "      <td>37.172970</td>\n",
       "      <td>41.098</td>\n",
       "      <td>67081.001</td>\n",
       "      <td>2.841987e+09</td>\n",
       "      <td>1.576960e+10</td>\n",
       "      <td>1.292762e+10</td>\n",
       "      <td>2</td>\n",
       "    </tr>\n",
       "    <tr>\n",
       "      <th>70</th>\n",
       "      <td>IND</td>\n",
       "      <td>India</td>\n",
       "      <td>4145.0</td>\n",
       "      <td>23.473969</td>\n",
       "      <td>1.933</td>\n",
       "      <td>1380004.395</td>\n",
       "      <td>8.710406e+09</td>\n",
       "      <td>2.161839e+10</td>\n",
       "      <td>1.290798e+10</td>\n",
       "      <td>3</td>\n",
       "    </tr>\n",
       "    <tr>\n",
       "      <th>116</th>\n",
       "      <td>PAN</td>\n",
       "      <td>Panama</td>\n",
       "      <td>18810.0</td>\n",
       "      <td>54.335985</td>\n",
       "      <td>12.510</td>\n",
       "      <td>4314.768</td>\n",
       "      <td>3.614088e+09</td>\n",
       "      <td>1.494249e+10</td>\n",
       "      <td>1.132841e+10</td>\n",
       "      <td>4</td>\n",
       "    </tr>\n",
       "    <tr>\n",
       "      <th>94</th>\n",
       "      <td>MYS.2</td>\n",
       "      <td>Malaysia</td>\n",
       "      <td>316.0</td>\n",
       "      <td>25.984928</td>\n",
       "      <td>10.412</td>\n",
       "      <td>32365.997</td>\n",
       "      <td>3.181143e+10</td>\n",
       "      <td>3.778315e+10</td>\n",
       "      <td>5.971729e+09</td>\n",
       "      <td>5</td>\n",
       "    </tr>\n",
       "    <tr>\n",
       "      <th>...</th>\n",
       "      <td>...</td>\n",
       "      <td>...</td>\n",
       "      <td>...</td>\n",
       "      <td>...</td>\n",
       "      <td>...</td>\n",
       "      <td>...</td>\n",
       "      <td>...</td>\n",
       "      <td>...</td>\n",
       "      <td>...</td>\n",
       "      <td>...</td>\n",
       "    </tr>\n",
       "    <tr>\n",
       "      <th>15</th>\n",
       "      <td>BEL</td>\n",
       "      <td>Belgium</td>\n",
       "      <td>10565.0</td>\n",
       "      <td>63.131133</td>\n",
       "      <td>45.189</td>\n",
       "      <td>11544.241</td>\n",
       "      <td>4.833611e+09</td>\n",
       "      <td>1.457270e+09</td>\n",
       "      <td>-3.376341e+09</td>\n",
       "      <td>162</td>\n",
       "    </tr>\n",
       "    <tr>\n",
       "      <th>138</th>\n",
       "      <td>KOR</td>\n",
       "      <td>South Korea</td>\n",
       "      <td>4664.0</td>\n",
       "      <td>47.879596</td>\n",
       "      <td>31.598</td>\n",
       "      <td>51836.239</td>\n",
       "      <td>1.670914e+10</td>\n",
       "      <td>1.260925e+10</td>\n",
       "      <td>-4.099899e+09</td>\n",
       "      <td>163</td>\n",
       "    </tr>\n",
       "    <tr>\n",
       "      <th>34</th>\n",
       "      <td>CHN</td>\n",
       "      <td>China</td>\n",
       "      <td>4462.0</td>\n",
       "      <td>25.620331</td>\n",
       "      <td>10.409</td>\n",
       "      <td>1411099.976</td>\n",
       "      <td>4.935476e+10</td>\n",
       "      <td>4.515837e+10</td>\n",
       "      <td>-4.196387e+09</td>\n",
       "      <td>164</td>\n",
       "    </tr>\n",
       "    <tr>\n",
       "      <th>158</th>\n",
       "      <td>USA</td>\n",
       "      <td>United States of America</td>\n",
       "      <td>15554.0</td>\n",
       "      <td>33.272183</td>\n",
       "      <td>63.028</td>\n",
       "      <td>331501.068</td>\n",
       "      <td>3.472027e+10</td>\n",
       "      <td>2.823207e+10</td>\n",
       "      <td>-6.488201e+09</td>\n",
       "      <td>165</td>\n",
       "    </tr>\n",
       "    <tr>\n",
       "      <th>108</th>\n",
       "      <td>NLD</td>\n",
       "      <td>Netherlands</td>\n",
       "      <td>10503.0</td>\n",
       "      <td>63.310309</td>\n",
       "      <td>52.396</td>\n",
       "      <td>17441.500</td>\n",
       "      <td>1.023152e+10</td>\n",
       "      <td>2.159147e+09</td>\n",
       "      <td>-8.072370e+09</td>\n",
       "      <td>166</td>\n",
       "    </tr>\n",
       "  </tbody>\n",
       "</table>\n",
       "<p>166 rows × 10 columns</p>\n",
       "</div>"
      ],
      "text/plain": [
       "    country_id_d                 country_d  distcap  geodistance  gdpcap_d  \\\n",
       "71         IDN.2                 Indonesia    894.0    41.555256     3.871   \n",
       "157          GBR            United Kingdom  10860.0    37.172970    41.098   \n",
       "70           IND                     India   4145.0    23.473969     1.933   \n",
       "116          PAN                    Panama  18810.0    54.335985    12.510   \n",
       "94         MYS.2                  Malaysia    316.0    25.984928    10.412   \n",
       "..           ...                       ...      ...          ...       ...   \n",
       "15           BEL                   Belgium  10565.0    63.131133    45.189   \n",
       "138          KOR               South Korea   4664.0    47.879596    31.598   \n",
       "34           CHN                     China   4462.0    25.620331    10.409   \n",
       "158          USA  United States of America  15554.0    33.272183    63.028   \n",
       "108          NLD               Netherlands  10503.0    63.310309    52.396   \n",
       "\n",
       "           pop_d   export_2020  exp_export_2021        change  rank  \n",
       "71    273523.621  2.062711e+10     4.431958e+10  2.369247e+10     1  \n",
       "157    67081.001  2.841987e+09     1.576960e+10  1.292762e+10     2  \n",
       "70   1380004.395  8.710406e+09     2.161839e+10  1.290798e+10     3  \n",
       "116     4314.768  3.614088e+09     1.494249e+10  1.132841e+10     4  \n",
       "94     32365.997  3.181143e+10     3.778315e+10  5.971729e+09     5  \n",
       "..           ...           ...              ...           ...   ...  \n",
       "15     11544.241  4.833611e+09     1.457270e+09 -3.376341e+09   162  \n",
       "138    51836.239  1.670914e+10     1.260925e+10 -4.099899e+09   163  \n",
       "34   1411099.976  4.935476e+10     4.515837e+10 -4.196387e+09   164  \n",
       "158   331501.068  3.472027e+10     2.823207e+10 -6.488201e+09   165  \n",
       "108    17441.500  1.023152e+10     2.159147e+09 -8.072370e+09   166  \n",
       "\n",
       "[166 rows x 10 columns]"
      ]
     },
     "execution_count": 76,
     "metadata": {},
     "output_type": "execute_result"
    }
   ],
   "source": [
    "df_prediction = df_last[df_last['year'] == 2020][\n",
    "    ['country_id_d', 'country_d', 'distcap', 'geodistance', 'gdpcap_d', 'pop_d', 'tradeflow_comtrade_o']\n",
    "].reset_index(drop=True)\n",
    "\n",
    "predictor = df_prediction[['pop_d', 'gdpcap_d', 'distcap', 'geodistance']]\n",
    "predictor['log_lag_pop_d'] = np.log1p(predictor['pop_d'])\n",
    "predictor['log_lag_gdpcap_d'] = np.log1p(predictor['gdpcap_d'])\n",
    "predictor = predictor[['distcap', 'geodistance', 'log_lag_pop_d', 'log_lag_gdpcap_d']]\n",
    "\n",
    "df_prediction['prediction'] = np.exp(xgboost_best_model.predict(predictor))\n",
    "\n",
    "df_prediction.rename(\n",
    "    columns={\n",
    "        \"tradeflow_comtrade_o\": \"export_2020\",\n",
    "        \"prediction\": \"exp_export_2021\"\n",
    "    }, \n",
    "    inplace=True\n",
    ")\n",
    "\n",
    "df_prediction['change'] = df_prediction['exp_export_2021'] - df_prediction['export_2020']\n",
    "\n",
    "df_prediction.sort_values(by='change', ascending=False, inplace=True)\n",
    "\n",
    "df_prediction['rank'] = df_prediction['change'].rank(ascending=False)\n",
    "df_prediction['rank'] = df_prediction['rank'].astype(int)\n",
    "\n",
    "df_prediction"
   ]
  },
  {
   "cell_type": "code",
   "execution_count": 179,
   "id": "2cf5469b-8312-49e3-a68f-6e445426dfae",
   "metadata": {},
   "outputs": [],
   "source": [
    "df_last.to_csv(\"../data/finaldataset.csv\")\n",
    "df_prediction.to_csv(\"../data/recommendations.csv\")"
   ]
  }
 ],
 "metadata": {
  "kernelspec": {
   "display_name": "Python 3.10",
   "language": "python",
   "name": "python310"
  },
  "language_info": {
   "codemirror_mode": {
    "name": "ipython",
    "version": 3
   },
   "file_extension": ".py",
   "mimetype": "text/x-python",
   "name": "python",
   "nbconvert_exporter": "python",
   "pygments_lexer": "ipython3",
   "version": "3.10.6"
  }
 },
 "nbformat": 4,
 "nbformat_minor": 5
}
